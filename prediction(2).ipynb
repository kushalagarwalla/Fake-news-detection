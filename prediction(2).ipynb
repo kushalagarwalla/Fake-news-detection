{
 "cells": [
  {
   "cell_type": "code",
   "execution_count": 1,
   "metadata": {},
   "outputs": [],
   "source": [
    "import pandas"
   ]
  },
  {
   "cell_type": "code",
   "execution_count": 2,
   "metadata": {},
   "outputs": [],
   "source": [
    "from pandas.plotting import scatter_matrix\n",
    "import matplotlib.pyplot as plt\n",
    "import matplotlib.patches as mpatches\n",
    "from sklearn import model_selection\n",
    "from sklearn.metrics import classification_report\n",
    "from sklearn.metrics import confusion_matrix\n",
    "from sklearn.metrics import accuracy_score\n",
    "from sklearn.linear_model import LogisticRegression\n",
    "from sklearn.tree import DecisionTreeClassifier\n",
    "from sklearn.neighbors import KNeighborsClassifier\n",
    "from sklearn.discriminant_analysis import LinearDiscriminantAnalysis\n",
    "from sklearn.naive_bayes import GaussianNB\n",
    "from sklearn.svm import SVC\n",
    "from sklearn.naive_bayes import MultinomialNB\n",
    "from sklearn import metrics"
   ]
  },
  {
   "cell_type": "code",
   "execution_count": 3,
   "metadata": {},
   "outputs": [],
   "source": [
    "df=pandas.read_csv(\"data.csv\")"
   ]
  },
  {
   "cell_type": "code",
   "execution_count": 4,
   "metadata": {},
   "outputs": [
    {
     "data": {
      "text/html": [
       "<div>\n",
       "<style scoped>\n",
       "    .dataframe tbody tr th:only-of-type {\n",
       "        vertical-align: middle;\n",
       "    }\n",
       "\n",
       "    .dataframe tbody tr th {\n",
       "        vertical-align: top;\n",
       "    }\n",
       "\n",
       "    .dataframe thead th {\n",
       "        text-align: right;\n",
       "    }\n",
       "</style>\n",
       "<table border=\"1\" class=\"dataframe\">\n",
       "  <thead>\n",
       "    <tr style=\"text-align: right;\">\n",
       "      <th></th>\n",
       "      <th>URLs</th>\n",
       "      <th>Headline</th>\n",
       "      <th>Body</th>\n",
       "      <th>Label</th>\n",
       "    </tr>\n",
       "  </thead>\n",
       "  <tbody>\n",
       "    <tr>\n",
       "      <th>0</th>\n",
       "      <td>http://www.bbc.com/news/world-us-canada-414191...</td>\n",
       "      <td>Four ways Bob Corker skewered Donald Trump</td>\n",
       "      <td>Image copyright Getty Images\\nOn Sunday mornin...</td>\n",
       "      <td>1</td>\n",
       "    </tr>\n",
       "    <tr>\n",
       "      <th>1</th>\n",
       "      <td>https://www.reuters.com/article/us-filmfestiva...</td>\n",
       "      <td>Linklater's war veteran comedy speaks to moder...</td>\n",
       "      <td>LONDON (Reuters) - “Last Flag Flying”, a comed...</td>\n",
       "      <td>1</td>\n",
       "    </tr>\n",
       "    <tr>\n",
       "      <th>2</th>\n",
       "      <td>https://www.nytimes.com/2017/10/09/us/politics...</td>\n",
       "      <td>Trump’s Fight With Corker Jeopardizes His Legi...</td>\n",
       "      <td>The feud broke into public view last week when...</td>\n",
       "      <td>1</td>\n",
       "    </tr>\n",
       "    <tr>\n",
       "      <th>3</th>\n",
       "      <td>https://www.reuters.com/article/us-mexico-oil-...</td>\n",
       "      <td>Egypt's Cheiron wins tie-up with Pemex for Mex...</td>\n",
       "      <td>MEXICO CITY (Reuters) - Egypt’s Cheiron Holdin...</td>\n",
       "      <td>1</td>\n",
       "    </tr>\n",
       "    <tr>\n",
       "      <th>4</th>\n",
       "      <td>http://www.cnn.com/videos/cnnmoney/2017/10/08/...</td>\n",
       "      <td>Jason Aldean opens 'SNL' with Vegas tribute</td>\n",
       "      <td>Country singer Jason Aldean, who was performin...</td>\n",
       "      <td>1</td>\n",
       "    </tr>\n",
       "    <tr>\n",
       "      <th>5</th>\n",
       "      <td>http://beforeitsnews.com/sports/2017/09/jetnat...</td>\n",
       "      <td>JetNation FanDuel League; Week 4</td>\n",
       "      <td>JetNation FanDuel League; Week 4\\n% of readers...</td>\n",
       "      <td>0</td>\n",
       "    </tr>\n",
       "    <tr>\n",
       "      <th>6</th>\n",
       "      <td>https://www.nytimes.com/2017/10/10/us/politics...</td>\n",
       "      <td>Kansas Tried a Tax Plan Similar to Trump’s. It...</td>\n",
       "      <td>In 2012, Kansas lawmakers, led by Gov. Sam Bro...</td>\n",
       "      <td>1</td>\n",
       "    </tr>\n",
       "    <tr>\n",
       "      <th>7</th>\n",
       "      <td>https://www.reuters.com/article/us-india-cenba...</td>\n",
       "      <td>India RBI chief: growth important, but not at ...</td>\n",
       "      <td>The Reserve Bank of India (RBI) Governor Urjit...</td>\n",
       "      <td>1</td>\n",
       "    </tr>\n",
       "    <tr>\n",
       "      <th>8</th>\n",
       "      <td>https://www.reuters.com/article/us-climatechan...</td>\n",
       "      <td>EPA chief to sign rule on Clean Power Plan exi...</td>\n",
       "      <td>Scott Pruitt, Administrator of the U.S. Enviro...</td>\n",
       "      <td>1</td>\n",
       "    </tr>\n",
       "    <tr>\n",
       "      <th>9</th>\n",
       "      <td>https://www.reuters.com/article/us-air-berlin-...</td>\n",
       "      <td>Talks on sale of Air Berlin planes to easyJet ...</td>\n",
       "      <td>FILE PHOTO - An Air Berlin sign is seen at an ...</td>\n",
       "      <td>1</td>\n",
       "    </tr>\n",
       "    <tr>\n",
       "      <th>10</th>\n",
       "      <td>https://www.activistpost.com/2017/09/u-s-presi...</td>\n",
       "      <td>U.S. President Donald Trump Quietly Signs Law ...</td>\n",
       "      <td>By Aaron Kesel\\nAs former White House chief of...</td>\n",
       "      <td>0</td>\n",
       "    </tr>\n",
       "    <tr>\n",
       "      <th>11</th>\n",
       "      <td>http://beforeitsnews.com/sports/2017/10/2017-f...</td>\n",
       "      <td>2017 Fantasy Football Team Defense Rankings - ...</td>\n",
       "      <td>2017 Fantasy Football Team Defense Rankings – ...</td>\n",
       "      <td>0</td>\n",
       "    </tr>\n",
       "    <tr>\n",
       "      <th>12</th>\n",
       "      <td>http://beforeitsnews.com/sports/2017/09/just-s...</td>\n",
       "      <td>Just Shut Up &amp; Play Some Damn Baseball!!</td>\n",
       "      <td>Just Shut Up &amp; Play Some Damn Baseball!!\\n(Bef...</td>\n",
       "      <td>0</td>\n",
       "    </tr>\n",
       "    <tr>\n",
       "      <th>13</th>\n",
       "      <td>https://www.reuters.com/article/us-deloitte-cy...</td>\n",
       "      <td>Deloitte cyber attack affected up to 350 clien...</td>\n",
       "      <td>FILE PHOTO: The Deloitte Company logo is seen ...</td>\n",
       "      <td>1</td>\n",
       "    </tr>\n",
       "    <tr>\n",
       "      <th>14</th>\n",
       "      <td>http://beforeitsnews.com/sports/2017/10/107-ch...</td>\n",
       "      <td>10/7: Chuck Axed; HBD Brickyard, Adam, Moonlig...</td>\n",
       "      <td>A Potato Battery Can Light up a Room for Over ...</td>\n",
       "      <td>0</td>\n",
       "    </tr>\n",
       "    <tr>\n",
       "      <th>15</th>\n",
       "      <td>https://www.nytimes.com/2017/10/04/us/las-vega...</td>\n",
       "      <td>Gunman’s Girlfriend Said She Didn’t Know He Pl...</td>\n",
       "      <td>• The authorities found evidence that the gunm...</td>\n",
       "      <td>1</td>\n",
       "    </tr>\n",
       "    <tr>\n",
       "      <th>16</th>\n",
       "      <td>https://www.nytimes.com/2017/10/04/us/marilou-...</td>\n",
       "      <td>Marilou Danley, Gunman’s Girlfriend, Says She ...</td>\n",
       "      <td>The statement, which was read by her lawyer, M...</td>\n",
       "      <td>1</td>\n",
       "    </tr>\n",
       "    <tr>\n",
       "      <th>17</th>\n",
       "      <td>https://www.nytimes.com/video/us/politics/1000...</td>\n",
       "      <td>Trump’s Immigration Rhetoric Echoes a Bitter F...</td>\n",
       "      <td>In bold documentary style, Retro Report looks ...</td>\n",
       "      <td>1</td>\n",
       "    </tr>\n",
       "    <tr>\n",
       "      <th>18</th>\n",
       "      <td>http://beforeitsnews.com/u-s-politics/2017/10/...</td>\n",
       "      <td>Trump Bemoans ‘Little Appreciation’ As San Jua...</td>\n",
       "      <td>Red Flag Warning: These California Wildfires A...</td>\n",
       "      <td>0</td>\n",
       "    </tr>\n",
       "    <tr>\n",
       "      <th>19</th>\n",
       "      <td>http://beforeitsnews.com/u-s-politics/2017/10/...</td>\n",
       "      <td>In Meeting With Military, Trump Talks Of 'Calm...</td>\n",
       "      <td>In Meeting With Military, Trump Talks Of 'Calm...</td>\n",
       "      <td>0</td>\n",
       "    </tr>\n",
       "  </tbody>\n",
       "</table>\n",
       "</div>"
      ],
      "text/plain": [
       "                                                 URLs  \\\n",
       "0   http://www.bbc.com/news/world-us-canada-414191...   \n",
       "1   https://www.reuters.com/article/us-filmfestiva...   \n",
       "2   https://www.nytimes.com/2017/10/09/us/politics...   \n",
       "3   https://www.reuters.com/article/us-mexico-oil-...   \n",
       "4   http://www.cnn.com/videos/cnnmoney/2017/10/08/...   \n",
       "5   http://beforeitsnews.com/sports/2017/09/jetnat...   \n",
       "6   https://www.nytimes.com/2017/10/10/us/politics...   \n",
       "7   https://www.reuters.com/article/us-india-cenba...   \n",
       "8   https://www.reuters.com/article/us-climatechan...   \n",
       "9   https://www.reuters.com/article/us-air-berlin-...   \n",
       "10  https://www.activistpost.com/2017/09/u-s-presi...   \n",
       "11  http://beforeitsnews.com/sports/2017/10/2017-f...   \n",
       "12  http://beforeitsnews.com/sports/2017/09/just-s...   \n",
       "13  https://www.reuters.com/article/us-deloitte-cy...   \n",
       "14  http://beforeitsnews.com/sports/2017/10/107-ch...   \n",
       "15  https://www.nytimes.com/2017/10/04/us/las-vega...   \n",
       "16  https://www.nytimes.com/2017/10/04/us/marilou-...   \n",
       "17  https://www.nytimes.com/video/us/politics/1000...   \n",
       "18  http://beforeitsnews.com/u-s-politics/2017/10/...   \n",
       "19  http://beforeitsnews.com/u-s-politics/2017/10/...   \n",
       "\n",
       "                                             Headline  \\\n",
       "0          Four ways Bob Corker skewered Donald Trump   \n",
       "1   Linklater's war veteran comedy speaks to moder...   \n",
       "2   Trump’s Fight With Corker Jeopardizes His Legi...   \n",
       "3   Egypt's Cheiron wins tie-up with Pemex for Mex...   \n",
       "4         Jason Aldean opens 'SNL' with Vegas tribute   \n",
       "5                    JetNation FanDuel League; Week 4   \n",
       "6   Kansas Tried a Tax Plan Similar to Trump’s. It...   \n",
       "7   India RBI chief: growth important, but not at ...   \n",
       "8   EPA chief to sign rule on Clean Power Plan exi...   \n",
       "9   Talks on sale of Air Berlin planes to easyJet ...   \n",
       "10  U.S. President Donald Trump Quietly Signs Law ...   \n",
       "11  2017 Fantasy Football Team Defense Rankings - ...   \n",
       "12           Just Shut Up & Play Some Damn Baseball!!   \n",
       "13  Deloitte cyber attack affected up to 350 clien...   \n",
       "14  10/7: Chuck Axed; HBD Brickyard, Adam, Moonlig...   \n",
       "15  Gunman’s Girlfriend Said She Didn’t Know He Pl...   \n",
       "16  Marilou Danley, Gunman’s Girlfriend, Says She ...   \n",
       "17  Trump’s Immigration Rhetoric Echoes a Bitter F...   \n",
       "18  Trump Bemoans ‘Little Appreciation’ As San Jua...   \n",
       "19  In Meeting With Military, Trump Talks Of 'Calm...   \n",
       "\n",
       "                                                 Body  Label  \n",
       "0   Image copyright Getty Images\\nOn Sunday mornin...      1  \n",
       "1   LONDON (Reuters) - “Last Flag Flying”, a comed...      1  \n",
       "2   The feud broke into public view last week when...      1  \n",
       "3   MEXICO CITY (Reuters) - Egypt’s Cheiron Holdin...      1  \n",
       "4   Country singer Jason Aldean, who was performin...      1  \n",
       "5   JetNation FanDuel League; Week 4\\n% of readers...      0  \n",
       "6   In 2012, Kansas lawmakers, led by Gov. Sam Bro...      1  \n",
       "7   The Reserve Bank of India (RBI) Governor Urjit...      1  \n",
       "8   Scott Pruitt, Administrator of the U.S. Enviro...      1  \n",
       "9   FILE PHOTO - An Air Berlin sign is seen at an ...      1  \n",
       "10  By Aaron Kesel\\nAs former White House chief of...      0  \n",
       "11  2017 Fantasy Football Team Defense Rankings – ...      0  \n",
       "12  Just Shut Up & Play Some Damn Baseball!!\\n(Bef...      0  \n",
       "13  FILE PHOTO: The Deloitte Company logo is seen ...      1  \n",
       "14  A Potato Battery Can Light up a Room for Over ...      0  \n",
       "15  • The authorities found evidence that the gunm...      1  \n",
       "16  The statement, which was read by her lawyer, M...      1  \n",
       "17  In bold documentary style, Retro Report looks ...      1  \n",
       "18  Red Flag Warning: These California Wildfires A...      0  \n",
       "19  In Meeting With Military, Trump Talks Of 'Calm...      0  "
      ]
     },
     "execution_count": 4,
     "metadata": {},
     "output_type": "execute_result"
    }
   ],
   "source": [
    "df.head(20)"
   ]
  },
  {
   "cell_type": "code",
   "execution_count": 5,
   "metadata": {},
   "outputs": [
    {
     "data": {
      "text/plain": [
       "Index(['URLs', 'Headline', 'Body', 'Label'], dtype='object')"
      ]
     },
     "execution_count": 5,
     "metadata": {},
     "output_type": "execute_result"
    }
   ],
   "source": [
    "df.columns"
   ]
  },
  {
   "cell_type": "code",
   "execution_count": 6,
   "metadata": {},
   "outputs": [
    {
     "name": "stdout",
     "output_type": "stream",
     "text": [
      "<class 'pandas.core.frame.DataFrame'>\n",
      "RangeIndex: 4008 entries, 0 to 4007\n",
      "Data columns (total 4 columns):\n",
      "URLs        4008 non-null object\n",
      "Headline    4008 non-null object\n",
      "Body        3987 non-null object\n",
      "Label       4008 non-null int64\n",
      "dtypes: int64(1), object(3)\n",
      "memory usage: 125.3+ KB\n",
      "None\n"
     ]
    }
   ],
   "source": [
    "print(df.info())"
   ]
  },
  {
   "cell_type": "code",
   "execution_count": 7,
   "metadata": {},
   "outputs": [
    {
     "name": "stdout",
     "output_type": "stream",
     "text": [
      "Label\n",
      "0    2136\n",
      "1    1872\n",
      "dtype: int64\n"
     ]
    }
   ],
   "source": [
    "print(df.groupby('Label').size())"
   ]
  },
  {
   "cell_type": "code",
   "execution_count": 8,
   "metadata": {},
   "outputs": [],
   "source": [
    "from sklearn.feature_extraction.text import CountVectorizer"
   ]
  },
  {
   "cell_type": "code",
   "execution_count": 9,
   "metadata": {},
   "outputs": [],
   "source": [
    "count_vectorizer = CountVectorizer()\n",
    "df['num_headline'] = count_vectorizer.fit_transform(df['Headline'])\n",
    "df['num_body'] = count_vectorizer.fit_transform(df['Body'].fillna(value='unavailable'))"
   ]
  },
  {
   "cell_type": "code",
   "execution_count": 23,
   "metadata": {},
   "outputs": [
    {
     "data": {
      "text/html": [
       "<div>\n",
       "<style scoped>\n",
       "    .dataframe tbody tr th:only-of-type {\n",
       "        vertical-align: middle;\n",
       "    }\n",
       "\n",
       "    .dataframe tbody tr th {\n",
       "        vertical-align: top;\n",
       "    }\n",
       "\n",
       "    .dataframe thead th {\n",
       "        text-align: right;\n",
       "    }\n",
       "</style>\n",
       "<table border=\"1\" class=\"dataframe\">\n",
       "  <thead>\n",
       "    <tr style=\"text-align: right;\">\n",
       "      <th></th>\n",
       "      <th>URLs</th>\n",
       "      <th>Headline</th>\n",
       "      <th>Body</th>\n",
       "      <th>Label</th>\n",
       "      <th>num_headline</th>\n",
       "      <th>num_body</th>\n",
       "      <th>ForR</th>\n",
       "    </tr>\n",
       "  </thead>\n",
       "  <tbody>\n",
       "    <tr>\n",
       "      <th>0</th>\n",
       "      <td>http://www.bbc.com/news/world-us-canada-414191...</td>\n",
       "      <td>Four ways Bob Corker skewered Donald Trump</td>\n",
       "      <td>Image copyright Getty Images\\nOn Sunday mornin...</td>\n",
       "      <td>1</td>\n",
       "      <td>(0, 6624)\\t1\\n  (0, 1952)\\t1\\n  (0, 5855)\\t1...</td>\n",
       "      <td>(0, 21936)\\t1\\n  (0, 42898)\\t1\\n  (0, 26514)...</td>\n",
       "      <td>Real</td>\n",
       "    </tr>\n",
       "    <tr>\n",
       "      <th>1</th>\n",
       "      <td>https://www.reuters.com/article/us-filmfestiva...</td>\n",
       "      <td>Linklater's war veteran comedy speaks to moder...</td>\n",
       "      <td>LONDON (Reuters) - “Last Flag Flying”, a comed...</td>\n",
       "      <td>1</td>\n",
       "      <td>(0, 6624)\\t1\\n  (0, 1952)\\t1\\n  (0, 5855)\\t1...</td>\n",
       "      <td>(0, 21936)\\t1\\n  (0, 42898)\\t1\\n  (0, 26514)...</td>\n",
       "      <td>Real</td>\n",
       "    </tr>\n",
       "    <tr>\n",
       "      <th>2</th>\n",
       "      <td>https://www.nytimes.com/2017/10/09/us/politics...</td>\n",
       "      <td>Trump’s Fight With Corker Jeopardizes His Legi...</td>\n",
       "      <td>The feud broke into public view last week when...</td>\n",
       "      <td>1</td>\n",
       "      <td>(0, 6624)\\t1\\n  (0, 1952)\\t1\\n  (0, 5855)\\t1...</td>\n",
       "      <td>(0, 21936)\\t1\\n  (0, 42898)\\t1\\n  (0, 26514)...</td>\n",
       "      <td>Real</td>\n",
       "    </tr>\n",
       "    <tr>\n",
       "      <th>3</th>\n",
       "      <td>https://www.reuters.com/article/us-mexico-oil-...</td>\n",
       "      <td>Egypt's Cheiron wins tie-up with Pemex for Mex...</td>\n",
       "      <td>MEXICO CITY (Reuters) - Egypt’s Cheiron Holdin...</td>\n",
       "      <td>1</td>\n",
       "      <td>(0, 6624)\\t1\\n  (0, 1952)\\t1\\n  (0, 5855)\\t1...</td>\n",
       "      <td>(0, 21936)\\t1\\n  (0, 42898)\\t1\\n  (0, 26514)...</td>\n",
       "      <td>Real</td>\n",
       "    </tr>\n",
       "    <tr>\n",
       "      <th>4</th>\n",
       "      <td>http://www.cnn.com/videos/cnnmoney/2017/10/08/...</td>\n",
       "      <td>Jason Aldean opens 'SNL' with Vegas tribute</td>\n",
       "      <td>Country singer Jason Aldean, who was performin...</td>\n",
       "      <td>1</td>\n",
       "      <td>(0, 6624)\\t1\\n  (0, 1952)\\t1\\n  (0, 5855)\\t1...</td>\n",
       "      <td>(0, 21936)\\t1\\n  (0, 42898)\\t1\\n  (0, 26514)...</td>\n",
       "      <td>Real</td>\n",
       "    </tr>\n",
       "    <tr>\n",
       "      <th>5</th>\n",
       "      <td>http://beforeitsnews.com/sports/2017/09/jetnat...</td>\n",
       "      <td>JetNation FanDuel League; Week 4</td>\n",
       "      <td>JetNation FanDuel League; Week 4\\n% of readers...</td>\n",
       "      <td>0</td>\n",
       "      <td>(0, 6624)\\t1\\n  (0, 1952)\\t1\\n  (0, 5855)\\t1...</td>\n",
       "      <td>(0, 21936)\\t1\\n  (0, 42898)\\t1\\n  (0, 26514)...</td>\n",
       "      <td>False</td>\n",
       "    </tr>\n",
       "    <tr>\n",
       "      <th>6</th>\n",
       "      <td>https://www.nytimes.com/2017/10/10/us/politics...</td>\n",
       "      <td>Kansas Tried a Tax Plan Similar to Trump’s. It...</td>\n",
       "      <td>In 2012, Kansas lawmakers, led by Gov. Sam Bro...</td>\n",
       "      <td>1</td>\n",
       "      <td>(0, 6624)\\t1\\n  (0, 1952)\\t1\\n  (0, 5855)\\t1...</td>\n",
       "      <td>(0, 21936)\\t1\\n  (0, 42898)\\t1\\n  (0, 26514)...</td>\n",
       "      <td>Real</td>\n",
       "    </tr>\n",
       "    <tr>\n",
       "      <th>7</th>\n",
       "      <td>https://www.reuters.com/article/us-india-cenba...</td>\n",
       "      <td>India RBI chief: growth important, but not at ...</td>\n",
       "      <td>The Reserve Bank of India (RBI) Governor Urjit...</td>\n",
       "      <td>1</td>\n",
       "      <td>(0, 6624)\\t1\\n  (0, 1952)\\t1\\n  (0, 5855)\\t1...</td>\n",
       "      <td>(0, 21936)\\t1\\n  (0, 42898)\\t1\\n  (0, 26514)...</td>\n",
       "      <td>Real</td>\n",
       "    </tr>\n",
       "    <tr>\n",
       "      <th>8</th>\n",
       "      <td>https://www.reuters.com/article/us-climatechan...</td>\n",
       "      <td>EPA chief to sign rule on Clean Power Plan exi...</td>\n",
       "      <td>Scott Pruitt, Administrator of the U.S. Enviro...</td>\n",
       "      <td>1</td>\n",
       "      <td>(0, 6624)\\t1\\n  (0, 1952)\\t1\\n  (0, 5855)\\t1...</td>\n",
       "      <td>(0, 21936)\\t1\\n  (0, 42898)\\t1\\n  (0, 26514)...</td>\n",
       "      <td>Real</td>\n",
       "    </tr>\n",
       "    <tr>\n",
       "      <th>9</th>\n",
       "      <td>https://www.reuters.com/article/us-air-berlin-...</td>\n",
       "      <td>Talks on sale of Air Berlin planes to easyJet ...</td>\n",
       "      <td>FILE PHOTO - An Air Berlin sign is seen at an ...</td>\n",
       "      <td>1</td>\n",
       "      <td>(0, 6624)\\t1\\n  (0, 1952)\\t1\\n  (0, 5855)\\t1...</td>\n",
       "      <td>(0, 21936)\\t1\\n  (0, 42898)\\t1\\n  (0, 26514)...</td>\n",
       "      <td>Real</td>\n",
       "    </tr>\n",
       "    <tr>\n",
       "      <th>10</th>\n",
       "      <td>https://www.activistpost.com/2017/09/u-s-presi...</td>\n",
       "      <td>U.S. President Donald Trump Quietly Signs Law ...</td>\n",
       "      <td>By Aaron Kesel\\nAs former White House chief of...</td>\n",
       "      <td>0</td>\n",
       "      <td>(0, 6624)\\t1\\n  (0, 1952)\\t1\\n  (0, 5855)\\t1...</td>\n",
       "      <td>(0, 21936)\\t1\\n  (0, 42898)\\t1\\n  (0, 26514)...</td>\n",
       "      <td>False</td>\n",
       "    </tr>\n",
       "    <tr>\n",
       "      <th>11</th>\n",
       "      <td>http://beforeitsnews.com/sports/2017/10/2017-f...</td>\n",
       "      <td>2017 Fantasy Football Team Defense Rankings - ...</td>\n",
       "      <td>2017 Fantasy Football Team Defense Rankings – ...</td>\n",
       "      <td>0</td>\n",
       "      <td>(0, 6624)\\t1\\n  (0, 1952)\\t1\\n  (0, 5855)\\t1...</td>\n",
       "      <td>(0, 21936)\\t1\\n  (0, 42898)\\t1\\n  (0, 26514)...</td>\n",
       "      <td>False</td>\n",
       "    </tr>\n",
       "    <tr>\n",
       "      <th>12</th>\n",
       "      <td>http://beforeitsnews.com/sports/2017/09/just-s...</td>\n",
       "      <td>Just Shut Up &amp; Play Some Damn Baseball!!</td>\n",
       "      <td>Just Shut Up &amp; Play Some Damn Baseball!!\\n(Bef...</td>\n",
       "      <td>0</td>\n",
       "      <td>(0, 6624)\\t1\\n  (0, 1952)\\t1\\n  (0, 5855)\\t1...</td>\n",
       "      <td>(0, 21936)\\t1\\n  (0, 42898)\\t1\\n  (0, 26514)...</td>\n",
       "      <td>False</td>\n",
       "    </tr>\n",
       "    <tr>\n",
       "      <th>13</th>\n",
       "      <td>https://www.reuters.com/article/us-deloitte-cy...</td>\n",
       "      <td>Deloitte cyber attack affected up to 350 clien...</td>\n",
       "      <td>FILE PHOTO: The Deloitte Company logo is seen ...</td>\n",
       "      <td>1</td>\n",
       "      <td>(0, 6624)\\t1\\n  (0, 1952)\\t1\\n  (0, 5855)\\t1...</td>\n",
       "      <td>(0, 21936)\\t1\\n  (0, 42898)\\t1\\n  (0, 26514)...</td>\n",
       "      <td>Real</td>\n",
       "    </tr>\n",
       "    <tr>\n",
       "      <th>14</th>\n",
       "      <td>http://beforeitsnews.com/sports/2017/10/107-ch...</td>\n",
       "      <td>10/7: Chuck Axed; HBD Brickyard, Adam, Moonlig...</td>\n",
       "      <td>A Potato Battery Can Light up a Room for Over ...</td>\n",
       "      <td>0</td>\n",
       "      <td>(0, 6624)\\t1\\n  (0, 1952)\\t1\\n  (0, 5855)\\t1...</td>\n",
       "      <td>(0, 21936)\\t1\\n  (0, 42898)\\t1\\n  (0, 26514)...</td>\n",
       "      <td>False</td>\n",
       "    </tr>\n",
       "    <tr>\n",
       "      <th>15</th>\n",
       "      <td>https://www.nytimes.com/2017/10/04/us/las-vega...</td>\n",
       "      <td>Gunman’s Girlfriend Said She Didn’t Know He Pl...</td>\n",
       "      <td>• The authorities found evidence that the gunm...</td>\n",
       "      <td>1</td>\n",
       "      <td>(0, 6624)\\t1\\n  (0, 1952)\\t1\\n  (0, 5855)\\t1...</td>\n",
       "      <td>(0, 21936)\\t1\\n  (0, 42898)\\t1\\n  (0, 26514)...</td>\n",
       "      <td>Real</td>\n",
       "    </tr>\n",
       "    <tr>\n",
       "      <th>16</th>\n",
       "      <td>https://www.nytimes.com/2017/10/04/us/marilou-...</td>\n",
       "      <td>Marilou Danley, Gunman’s Girlfriend, Says She ...</td>\n",
       "      <td>The statement, which was read by her lawyer, M...</td>\n",
       "      <td>1</td>\n",
       "      <td>(0, 6624)\\t1\\n  (0, 1952)\\t1\\n  (0, 5855)\\t1...</td>\n",
       "      <td>(0, 21936)\\t1\\n  (0, 42898)\\t1\\n  (0, 26514)...</td>\n",
       "      <td>Real</td>\n",
       "    </tr>\n",
       "    <tr>\n",
       "      <th>17</th>\n",
       "      <td>https://www.nytimes.com/video/us/politics/1000...</td>\n",
       "      <td>Trump’s Immigration Rhetoric Echoes a Bitter F...</td>\n",
       "      <td>In bold documentary style, Retro Report looks ...</td>\n",
       "      <td>1</td>\n",
       "      <td>(0, 6624)\\t1\\n  (0, 1952)\\t1\\n  (0, 5855)\\t1...</td>\n",
       "      <td>(0, 21936)\\t1\\n  (0, 42898)\\t1\\n  (0, 26514)...</td>\n",
       "      <td>Real</td>\n",
       "    </tr>\n",
       "    <tr>\n",
       "      <th>18</th>\n",
       "      <td>http://beforeitsnews.com/u-s-politics/2017/10/...</td>\n",
       "      <td>Trump Bemoans ‘Little Appreciation’ As San Jua...</td>\n",
       "      <td>Red Flag Warning: These California Wildfires A...</td>\n",
       "      <td>0</td>\n",
       "      <td>(0, 6624)\\t1\\n  (0, 1952)\\t1\\n  (0, 5855)\\t1...</td>\n",
       "      <td>(0, 21936)\\t1\\n  (0, 42898)\\t1\\n  (0, 26514)...</td>\n",
       "      <td>False</td>\n",
       "    </tr>\n",
       "    <tr>\n",
       "      <th>19</th>\n",
       "      <td>http://beforeitsnews.com/u-s-politics/2017/10/...</td>\n",
       "      <td>In Meeting With Military, Trump Talks Of 'Calm...</td>\n",
       "      <td>In Meeting With Military, Trump Talks Of 'Calm...</td>\n",
       "      <td>0</td>\n",
       "      <td>(0, 6624)\\t1\\n  (0, 1952)\\t1\\n  (0, 5855)\\t1...</td>\n",
       "      <td>(0, 21936)\\t1\\n  (0, 42898)\\t1\\n  (0, 26514)...</td>\n",
       "      <td>False</td>\n",
       "    </tr>\n",
       "  </tbody>\n",
       "</table>\n",
       "</div>"
      ],
      "text/plain": [
       "                                                 URLs  \\\n",
       "0   http://www.bbc.com/news/world-us-canada-414191...   \n",
       "1   https://www.reuters.com/article/us-filmfestiva...   \n",
       "2   https://www.nytimes.com/2017/10/09/us/politics...   \n",
       "3   https://www.reuters.com/article/us-mexico-oil-...   \n",
       "4   http://www.cnn.com/videos/cnnmoney/2017/10/08/...   \n",
       "5   http://beforeitsnews.com/sports/2017/09/jetnat...   \n",
       "6   https://www.nytimes.com/2017/10/10/us/politics...   \n",
       "7   https://www.reuters.com/article/us-india-cenba...   \n",
       "8   https://www.reuters.com/article/us-climatechan...   \n",
       "9   https://www.reuters.com/article/us-air-berlin-...   \n",
       "10  https://www.activistpost.com/2017/09/u-s-presi...   \n",
       "11  http://beforeitsnews.com/sports/2017/10/2017-f...   \n",
       "12  http://beforeitsnews.com/sports/2017/09/just-s...   \n",
       "13  https://www.reuters.com/article/us-deloitte-cy...   \n",
       "14  http://beforeitsnews.com/sports/2017/10/107-ch...   \n",
       "15  https://www.nytimes.com/2017/10/04/us/las-vega...   \n",
       "16  https://www.nytimes.com/2017/10/04/us/marilou-...   \n",
       "17  https://www.nytimes.com/video/us/politics/1000...   \n",
       "18  http://beforeitsnews.com/u-s-politics/2017/10/...   \n",
       "19  http://beforeitsnews.com/u-s-politics/2017/10/...   \n",
       "\n",
       "                                             Headline  \\\n",
       "0          Four ways Bob Corker skewered Donald Trump   \n",
       "1   Linklater's war veteran comedy speaks to moder...   \n",
       "2   Trump’s Fight With Corker Jeopardizes His Legi...   \n",
       "3   Egypt's Cheiron wins tie-up with Pemex for Mex...   \n",
       "4         Jason Aldean opens 'SNL' with Vegas tribute   \n",
       "5                    JetNation FanDuel League; Week 4   \n",
       "6   Kansas Tried a Tax Plan Similar to Trump’s. It...   \n",
       "7   India RBI chief: growth important, but not at ...   \n",
       "8   EPA chief to sign rule on Clean Power Plan exi...   \n",
       "9   Talks on sale of Air Berlin planes to easyJet ...   \n",
       "10  U.S. President Donald Trump Quietly Signs Law ...   \n",
       "11  2017 Fantasy Football Team Defense Rankings - ...   \n",
       "12           Just Shut Up & Play Some Damn Baseball!!   \n",
       "13  Deloitte cyber attack affected up to 350 clien...   \n",
       "14  10/7: Chuck Axed; HBD Brickyard, Adam, Moonlig...   \n",
       "15  Gunman’s Girlfriend Said She Didn’t Know He Pl...   \n",
       "16  Marilou Danley, Gunman’s Girlfriend, Says She ...   \n",
       "17  Trump’s Immigration Rhetoric Echoes a Bitter F...   \n",
       "18  Trump Bemoans ‘Little Appreciation’ As San Jua...   \n",
       "19  In Meeting With Military, Trump Talks Of 'Calm...   \n",
       "\n",
       "                                                 Body  Label  \\\n",
       "0   Image copyright Getty Images\\nOn Sunday mornin...      1   \n",
       "1   LONDON (Reuters) - “Last Flag Flying”, a comed...      1   \n",
       "2   The feud broke into public view last week when...      1   \n",
       "3   MEXICO CITY (Reuters) - Egypt’s Cheiron Holdin...      1   \n",
       "4   Country singer Jason Aldean, who was performin...      1   \n",
       "5   JetNation FanDuel League; Week 4\\n% of readers...      0   \n",
       "6   In 2012, Kansas lawmakers, led by Gov. Sam Bro...      1   \n",
       "7   The Reserve Bank of India (RBI) Governor Urjit...      1   \n",
       "8   Scott Pruitt, Administrator of the U.S. Enviro...      1   \n",
       "9   FILE PHOTO - An Air Berlin sign is seen at an ...      1   \n",
       "10  By Aaron Kesel\\nAs former White House chief of...      0   \n",
       "11  2017 Fantasy Football Team Defense Rankings – ...      0   \n",
       "12  Just Shut Up & Play Some Damn Baseball!!\\n(Bef...      0   \n",
       "13  FILE PHOTO: The Deloitte Company logo is seen ...      1   \n",
       "14  A Potato Battery Can Light up a Room for Over ...      0   \n",
       "15  • The authorities found evidence that the gunm...      1   \n",
       "16  The statement, which was read by her lawyer, M...      1   \n",
       "17  In bold documentary style, Retro Report looks ...      1   \n",
       "18  Red Flag Warning: These California Wildfires A...      0   \n",
       "19  In Meeting With Military, Trump Talks Of 'Calm...      0   \n",
       "\n",
       "                                         num_headline  \\\n",
       "0     (0, 6624)\\t1\\n  (0, 1952)\\t1\\n  (0, 5855)\\t1...   \n",
       "1     (0, 6624)\\t1\\n  (0, 1952)\\t1\\n  (0, 5855)\\t1...   \n",
       "2     (0, 6624)\\t1\\n  (0, 1952)\\t1\\n  (0, 5855)\\t1...   \n",
       "3     (0, 6624)\\t1\\n  (0, 1952)\\t1\\n  (0, 5855)\\t1...   \n",
       "4     (0, 6624)\\t1\\n  (0, 1952)\\t1\\n  (0, 5855)\\t1...   \n",
       "5     (0, 6624)\\t1\\n  (0, 1952)\\t1\\n  (0, 5855)\\t1...   \n",
       "6     (0, 6624)\\t1\\n  (0, 1952)\\t1\\n  (0, 5855)\\t1...   \n",
       "7     (0, 6624)\\t1\\n  (0, 1952)\\t1\\n  (0, 5855)\\t1...   \n",
       "8     (0, 6624)\\t1\\n  (0, 1952)\\t1\\n  (0, 5855)\\t1...   \n",
       "9     (0, 6624)\\t1\\n  (0, 1952)\\t1\\n  (0, 5855)\\t1...   \n",
       "10    (0, 6624)\\t1\\n  (0, 1952)\\t1\\n  (0, 5855)\\t1...   \n",
       "11    (0, 6624)\\t1\\n  (0, 1952)\\t1\\n  (0, 5855)\\t1...   \n",
       "12    (0, 6624)\\t1\\n  (0, 1952)\\t1\\n  (0, 5855)\\t1...   \n",
       "13    (0, 6624)\\t1\\n  (0, 1952)\\t1\\n  (0, 5855)\\t1...   \n",
       "14    (0, 6624)\\t1\\n  (0, 1952)\\t1\\n  (0, 5855)\\t1...   \n",
       "15    (0, 6624)\\t1\\n  (0, 1952)\\t1\\n  (0, 5855)\\t1...   \n",
       "16    (0, 6624)\\t1\\n  (0, 1952)\\t1\\n  (0, 5855)\\t1...   \n",
       "17    (0, 6624)\\t1\\n  (0, 1952)\\t1\\n  (0, 5855)\\t1...   \n",
       "18    (0, 6624)\\t1\\n  (0, 1952)\\t1\\n  (0, 5855)\\t1...   \n",
       "19    (0, 6624)\\t1\\n  (0, 1952)\\t1\\n  (0, 5855)\\t1...   \n",
       "\n",
       "                                             num_body   ForR  \n",
       "0     (0, 21936)\\t1\\n  (0, 42898)\\t1\\n  (0, 26514)...   Real  \n",
       "1     (0, 21936)\\t1\\n  (0, 42898)\\t1\\n  (0, 26514)...   Real  \n",
       "2     (0, 21936)\\t1\\n  (0, 42898)\\t1\\n  (0, 26514)...   Real  \n",
       "3     (0, 21936)\\t1\\n  (0, 42898)\\t1\\n  (0, 26514)...   Real  \n",
       "4     (0, 21936)\\t1\\n  (0, 42898)\\t1\\n  (0, 26514)...   Real  \n",
       "5     (0, 21936)\\t1\\n  (0, 42898)\\t1\\n  (0, 26514)...  False  \n",
       "6     (0, 21936)\\t1\\n  (0, 42898)\\t1\\n  (0, 26514)...   Real  \n",
       "7     (0, 21936)\\t1\\n  (0, 42898)\\t1\\n  (0, 26514)...   Real  \n",
       "8     (0, 21936)\\t1\\n  (0, 42898)\\t1\\n  (0, 26514)...   Real  \n",
       "9     (0, 21936)\\t1\\n  (0, 42898)\\t1\\n  (0, 26514)...   Real  \n",
       "10    (0, 21936)\\t1\\n  (0, 42898)\\t1\\n  (0, 26514)...  False  \n",
       "11    (0, 21936)\\t1\\n  (0, 42898)\\t1\\n  (0, 26514)...  False  \n",
       "12    (0, 21936)\\t1\\n  (0, 42898)\\t1\\n  (0, 26514)...  False  \n",
       "13    (0, 21936)\\t1\\n  (0, 42898)\\t1\\n  (0, 26514)...   Real  \n",
       "14    (0, 21936)\\t1\\n  (0, 42898)\\t1\\n  (0, 26514)...  False  \n",
       "15    (0, 21936)\\t1\\n  (0, 42898)\\t1\\n  (0, 26514)...   Real  \n",
       "16    (0, 21936)\\t1\\n  (0, 42898)\\t1\\n  (0, 26514)...   Real  \n",
       "17    (0, 21936)\\t1\\n  (0, 42898)\\t1\\n  (0, 26514)...   Real  \n",
       "18    (0, 21936)\\t1\\n  (0, 42898)\\t1\\n  (0, 26514)...  False  \n",
       "19    (0, 21936)\\t1\\n  (0, 42898)\\t1\\n  (0, 26514)...  False  "
      ]
     },
     "execution_count": 23,
     "metadata": {},
     "output_type": "execute_result"
    }
   ],
   "source": [
    "df.head(20)"
   ]
  },
  {
   "cell_type": "code",
   "execution_count": 27,
   "metadata": {},
   "outputs": [
    {
     "data": {
      "text/plain": [
       "<4008x7161 sparse matrix of type '<class 'numpy.int64'>'\n",
       "\twith 37604 stored elements in Compressed Sparse Row format>"
      ]
     },
     "execution_count": 27,
     "metadata": {},
     "output_type": "execute_result"
    }
   ],
   "source": [
    "df['num_headline'][0]"
   ]
  },
  {
   "cell_type": "code",
   "execution_count": 28,
   "metadata": {},
   "outputs": [
    {
     "data": {
      "text/plain": [
       "<4008x46069 sparse matrix of type '<class 'numpy.int64'>'\n",
       "\twith 926869 stored elements in Compressed Sparse Row format>"
      ]
     },
     "execution_count": 28,
     "metadata": {},
     "output_type": "execute_result"
    }
   ],
   "source": [
    "df['num_body'][0]"
   ]
  },
  {
   "cell_type": "code",
   "execution_count": 11,
   "metadata": {},
   "outputs": [],
   "source": [
    "X = df[['num_headline','num_body']]\n",
    "Y = df['Label']\n",
    "X_train, X_validation, Y_train, Y_validation = model_selection.train_test_split(X, Y, test_size=0.3, random_state=7)"
   ]
  },
  {
   "cell_type": "code",
   "execution_count": 12,
   "metadata": {},
   "outputs": [],
   "source": [
    "from sklearn.model_selection import train_test_split\n",
    "from sklearn import preprocessing\n",
    "from wordcloud import WordCloud, STOPWORDS"
   ]
  },
  {
   "cell_type": "code",
   "execution_count": 13,
   "metadata": {},
   "outputs": [],
   "source": [
    "comment_words = ' '\n",
    "stopwords = set(STOPWORDS) "
   ]
  },
  {
   "cell_type": "code",
   "execution_count": 14,
   "metadata": {
    "scrolled": true
   },
   "outputs": [],
   "source": [
    "tokens = \" \".join(str(review for review in df.Body).lower())\n",
    "\n",
    "for words in tokens: \n",
    "    comment_words = comment_words + words + ' '"
   ]
  },
  {
   "cell_type": "code",
   "execution_count": 15,
   "metadata": {},
   "outputs": [
    {
     "data": {
      "image/png": "[encoded data removed]",
      "text/plain": [
       "<Figure size 432x288 with 1 Axes>"
      ]
     },
     "metadata": {
      "needs_background": "light"
     },
     "output_type": "display_data"
    }
   ],
   "source": [
    "wordcloud = WordCloud(width = 1000, height = 500, background_color ='white', stopwords = stopwords, min_font_size = 10).generate(str(df.Body))\n",
    "plt.imshow(wordcloud)\n",
    "plt.axis(\"off\")\n",
    "plt.savefig('wordcloud.png',dpi=500)\n",
    "plt.show()"
   ]
  },
  {
   "cell_type": "code",
   "execution_count": 16,
   "metadata": {},
   "outputs": [
    {
     "name": "stderr",
     "output_type": "stream",
     "text": [
      "[nltk_data] Error loading puntk: Package 'puntk' not found in index\n",
      "[nltk_data] Downloading package stopwords to C:\\Users\\Kushal\n",
      "[nltk_data]     Agarwal\\AppData\\Roaming\\nltk_data...\n",
      "[nltk_data]   Package stopwords is already up-to-date!\n"
     ]
    },
    {
     "data": {
      "text/plain": [
       "True"
      ]
     },
     "execution_count": 16,
     "metadata": {},
     "output_type": "execute_result"
    }
   ],
   "source": [
    "import seaborn as sns\n",
    "import nltk\n",
    "from nltk.corpus import stopwords\n",
    "nltk.download('puntk')\n",
    "nltk.download('stopwords')"
   ]
  },
  {
   "cell_type": "code",
   "execution_count": 17,
   "metadata": {},
   "outputs": [],
   "source": [
    "def check(x):\n",
    "    if x==1:\n",
    "        return 'Real'\n",
    "    else:\n",
    "        return 'False'"
   ]
  },
  {
   "cell_type": "code",
   "execution_count": 18,
   "metadata": {},
   "outputs": [],
   "source": [
    "df['ForR'] = df['Label'].apply(check)"
   ]
  },
  {
   "cell_type": "code",
   "execution_count": 19,
   "metadata": {},
   "outputs": [
    {
     "data": {
      "image/png": "[encoded data removed]",
      "text/plain": [
       "<Figure size 432x288 with 1 Axes>"
      ]
     },
     "metadata": {
      "needs_background": "light"
     },
     "output_type": "display_data"
    }
   ],
   "source": [
    "sns.countplot(df['ForR'], palette=\"winter_r\")\n",
    "plt.title('Fake news vs Real News')\n",
    "plt.xlabel('News items')\n",
    "plt.savefig('Barchart.png')\n",
    "plt.show()"
   ]
  },
  {
   "cell_type": "code",
   "execution_count": 20,
   "metadata": {},
   "outputs": [],
   "source": [
    "real_text = ' '.join(df[df['Label'] == 1]['Headline'])\n",
    "fake_text = ' '.join(df[df['Label'] == 0]['Headline'])\n",
    "fake_words = [word for word in nltk.tokenize.word_tokenize(fake_text) if word not in stopwords.words('english') and len(word) > 3]\n",
    "real_words = [word for word in nltk.tokenize.word_tokenize(real_text) if word not in stopwords.words('english') and len(word) > 3]"
   ]
  },
  {
   "cell_type": "code",
   "execution_count": 21,
   "metadata": {},
   "outputs": [
    {
     "data": {
      "image/png": "[encoded data removed]",
      "text/plain": [
       "<Figure size 1440x504 with 1 Axes>"
      ]
     },
     "metadata": {
      "needs_background": "light"
     },
     "output_type": "display_data"
    }
   ],
   "source": [
    "common_fake = nltk.FreqDist(fake_words).most_common(25)\n",
    "common_real =nltk.FreqDist(real_words).most_common(25)\n",
    "fake_ranks = []\n",
    "fake_counts = []\n",
    "real_ranks = []\n",
    "real_counts = []\n",
    "\n",
    "for ii, word in enumerate(reversed(common_fake)):\n",
    "    fake_ranks.append(ii)\n",
    "    fake_counts.append(word[1])\n",
    "\n",
    "for ii, word in enumerate(reversed(common_real)):\n",
    "    real_ranks.append(ii)\n",
    "    real_counts.append(word[1])\n",
    "\n",
    "plt.figure(figsize=(20, 7))\n",
    "\n",
    "plt.scatter(fake_ranks, fake_counts)\n",
    "\n",
    "for labels, fake_rank, fake_count in zip(common_fake, fake_ranks, fake_counts):\n",
    "    plt.annotate(\n",
    "        labels[0],\n",
    "        xy = (fake_rank, fake_count)\n",
    "    )\n",
    "\n",
    "plt.scatter(real_ranks, real_counts)\n",
    "plt.title('Real vs Fake Headlines')\n",
    "\n",
    "for labels, real_rank, real_count in zip(common_real, real_ranks, real_counts):\n",
    "    plt.annotate(\n",
    "        labels[0],\n",
    "        xy = (real_rank, real_count)\n",
    "    )\n",
    "    \n",
    "real_patch = mpatches.Patch(color='orange', label='Real')\n",
    "fake_patch = mpatches.Patch(color='blue', label='Fake')\n",
    "plt.legend(handles=[real_patch, fake_patch])\n",
    "plt.savefig('scatter plot.png')\n",
    "plt.show()"
   ]
  },
  {
   "cell_type": "code",
   "execution_count": 22,
   "metadata": {},
   "outputs": [
    {
     "ename": "ValueError",
     "evalue": "setting an array element with a sequence.",
     "output_type": "error",
     "traceback": [
      "\u001b[1;31m---------------------------------------------------------------------------\u001b[0m",
      "\u001b[1;31mValueError\u001b[0m                                Traceback (most recent call last)",
      "\u001b[1;32m<ipython-input-22-b37cb0c8724f>\u001b[0m in \u001b[0;36m<module>\u001b[1;34m\u001b[0m\n\u001b[0;32m      1\u001b[0m \u001b[0mgnb\u001b[0m \u001b[1;33m=\u001b[0m \u001b[0mGaussianNB\u001b[0m\u001b[1;33m(\u001b[0m\u001b[1;33m)\u001b[0m\u001b[1;33m\u001b[0m\u001b[1;33m\u001b[0m\u001b[0m\n\u001b[1;32m----> 2\u001b[1;33m \u001b[0mgnb\u001b[0m\u001b[1;33m.\u001b[0m\u001b[0mfit\u001b[0m\u001b[1;33m(\u001b[0m\u001b[0mX_train\u001b[0m\u001b[1;33m,\u001b[0m\u001b[0mY_train\u001b[0m\u001b[1;33m)\u001b[0m\u001b[1;33m\u001b[0m\u001b[1;33m\u001b[0m\u001b[0m\n\u001b[0m\u001b[0;32m      3\u001b[0m \u001b[0my_pred\u001b[0m \u001b[1;33m=\u001b[0m \u001b[0mgnb\u001b[0m\u001b[1;33m.\u001b[0m\u001b[0mpredict\u001b[0m\u001b[1;33m(\u001b[0m\u001b[0mX_validation\u001b[0m\u001b[1;33m)\u001b[0m\u001b[1;33m\u001b[0m\u001b[1;33m\u001b[0m\u001b[0m\n\u001b[0;32m      4\u001b[0m \u001b[0mm\u001b[0m \u001b[1;33m=\u001b[0m \u001b[0mY_validation\u001b[0m\u001b[1;33m.\u001b[0m\u001b[0mshape\u001b[0m\u001b[1;33m[\u001b[0m\u001b[1;36m0\u001b[0m\u001b[1;33m]\u001b[0m\u001b[1;33m\u001b[0m\u001b[1;33m\u001b[0m\u001b[0m\n\u001b[0;32m      5\u001b[0m \u001b[0mn\u001b[0m \u001b[1;33m=\u001b[0m \u001b[1;33m(\u001b[0m\u001b[0mY_validation\u001b[0m \u001b[1;33m!=\u001b[0m \u001b[0my_pred\u001b[0m\u001b[1;33m)\u001b[0m\u001b[1;33m.\u001b[0m\u001b[0msum\u001b[0m\u001b[1;33m(\u001b[0m\u001b[1;33m)\u001b[0m\u001b[1;33m\u001b[0m\u001b[1;33m\u001b[0m\u001b[0m\n",
      "\u001b[1;32mC:\\ProgramData\\Anaconda3\\lib\\site-packages\\sklearn\\naive_bayes.py\u001b[0m in \u001b[0;36mfit\u001b[1;34m(self, X, y, sample_weight)\u001b[0m\n\u001b[0;32m    188\u001b[0m         \u001b[0mself\u001b[0m \u001b[1;33m:\u001b[0m \u001b[0mobject\u001b[0m\u001b[1;33m\u001b[0m\u001b[1;33m\u001b[0m\u001b[0m\n\u001b[0;32m    189\u001b[0m         \"\"\"\n\u001b[1;32m--> 190\u001b[1;33m         \u001b[0mX\u001b[0m\u001b[1;33m,\u001b[0m \u001b[0my\u001b[0m \u001b[1;33m=\u001b[0m \u001b[0mcheck_X_y\u001b[0m\u001b[1;33m(\u001b[0m\u001b[0mX\u001b[0m\u001b[1;33m,\u001b[0m \u001b[0my\u001b[0m\u001b[1;33m)\u001b[0m\u001b[1;33m\u001b[0m\u001b[1;33m\u001b[0m\u001b[0m\n\u001b[0m\u001b[0;32m    191\u001b[0m         return self._partial_fit(X, y, np.unique(y), _refit=True,\n\u001b[0;32m    192\u001b[0m                                  sample_weight=sample_weight)\n",
      "\u001b[1;32mC:\\ProgramData\\Anaconda3\\lib\\site-packages\\sklearn\\utils\\validation.py\u001b[0m in \u001b[0;36mcheck_X_y\u001b[1;34m(X, y, accept_sparse, accept_large_sparse, dtype, order, copy, force_all_finite, ensure_2d, allow_nd, multi_output, ensure_min_samples, ensure_min_features, y_numeric, warn_on_dtype, estimator)\u001b[0m\n\u001b[0;32m    754\u001b[0m                     \u001b[0mensure_min_features\u001b[0m\u001b[1;33m=\u001b[0m\u001b[0mensure_min_features\u001b[0m\u001b[1;33m,\u001b[0m\u001b[1;33m\u001b[0m\u001b[1;33m\u001b[0m\u001b[0m\n\u001b[0;32m    755\u001b[0m                     \u001b[0mwarn_on_dtype\u001b[0m\u001b[1;33m=\u001b[0m\u001b[0mwarn_on_dtype\u001b[0m\u001b[1;33m,\u001b[0m\u001b[1;33m\u001b[0m\u001b[1;33m\u001b[0m\u001b[0m\n\u001b[1;32m--> 756\u001b[1;33m                     estimator=estimator)\n\u001b[0m\u001b[0;32m    757\u001b[0m     \u001b[1;32mif\u001b[0m \u001b[0mmulti_output\u001b[0m\u001b[1;33m:\u001b[0m\u001b[1;33m\u001b[0m\u001b[1;33m\u001b[0m\u001b[0m\n\u001b[0;32m    758\u001b[0m         y = check_array(y, 'csr', force_all_finite=True, ensure_2d=False,\n",
      "\u001b[1;32mC:\\ProgramData\\Anaconda3\\lib\\site-packages\\sklearn\\utils\\validation.py\u001b[0m in \u001b[0;36mcheck_array\u001b[1;34m(array, accept_sparse, accept_large_sparse, dtype, order, copy, force_all_finite, ensure_2d, allow_nd, ensure_min_samples, ensure_min_features, warn_on_dtype, estimator)\u001b[0m\n\u001b[0;32m    565\u001b[0m         \u001b[1;31m# make sure we actually converted to numeric:\u001b[0m\u001b[1;33m\u001b[0m\u001b[1;33m\u001b[0m\u001b[1;33m\u001b[0m\u001b[0m\n\u001b[0;32m    566\u001b[0m         \u001b[1;32mif\u001b[0m \u001b[0mdtype_numeric\u001b[0m \u001b[1;32mand\u001b[0m \u001b[0marray\u001b[0m\u001b[1;33m.\u001b[0m\u001b[0mdtype\u001b[0m\u001b[1;33m.\u001b[0m\u001b[0mkind\u001b[0m \u001b[1;33m==\u001b[0m \u001b[1;34m\"O\"\u001b[0m\u001b[1;33m:\u001b[0m\u001b[1;33m\u001b[0m\u001b[1;33m\u001b[0m\u001b[0m\n\u001b[1;32m--> 567\u001b[1;33m             \u001b[0marray\u001b[0m \u001b[1;33m=\u001b[0m \u001b[0marray\u001b[0m\u001b[1;33m.\u001b[0m\u001b[0mastype\u001b[0m\u001b[1;33m(\u001b[0m\u001b[0mnp\u001b[0m\u001b[1;33m.\u001b[0m\u001b[0mfloat64\u001b[0m\u001b[1;33m)\u001b[0m\u001b[1;33m\u001b[0m\u001b[1;33m\u001b[0m\u001b[0m\n\u001b[0m\u001b[0;32m    568\u001b[0m         \u001b[1;32mif\u001b[0m \u001b[1;32mnot\u001b[0m \u001b[0mallow_nd\u001b[0m \u001b[1;32mand\u001b[0m \u001b[0marray\u001b[0m\u001b[1;33m.\u001b[0m\u001b[0mndim\u001b[0m \u001b[1;33m>=\u001b[0m \u001b[1;36m3\u001b[0m\u001b[1;33m:\u001b[0m\u001b[1;33m\u001b[0m\u001b[1;33m\u001b[0m\u001b[0m\n\u001b[0;32m    569\u001b[0m             raise ValueError(\"Found array with dim %d. %s expected <= 2.\"\n",
      "\u001b[1;31mValueError\u001b[0m: setting an array element with a sequence."
     ]
    }
   ],
   "source": [
    "gnb = GaussianNB()\n",
    "gnb.fit(X_train,Y_train)\n",
    "y_pred = gnb.predict(X_validation)\n",
    "m = Y_validation.shape[0]\n",
    "n = (Y_validation != y_pred).sum()\n",
    "print(\"Accuracy = \" + format((m-n)/m*100, '.2f') + \"%\")  "
   ]
  },
  {
   "cell_type": "code",
   "execution_count": null,
   "metadata": {},
   "outputs": [],
   "source": []
  }
 ],
 "metadata": {
  "kernelspec": {
   "display_name": "Python 3",
   "language": "python",
   "name": "python3"
  },
  "language_info": {
   "codemirror_mode": {
    "name": "ipython",
    "version": 3
   },
   "file_extension": ".py",
   "mimetype": "text/x-python",
   "name": "python",
   "nbconvert_exporter": "python",
   "pygments_lexer": "ipython3",
   "version": "3.7.1"
  }
 },
 "nbformat": 4,
 "nbformat_minor": 2
}
